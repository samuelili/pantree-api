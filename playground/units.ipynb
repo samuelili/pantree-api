{
 "cells": [
  {
   "cell_type": "markdown",
   "id": "9d5cd367",
   "metadata": {},
   "source": [
    "# Units\n",
    "\n",
    "This file describes some techniques/algorithms that we can use to deal with units"
   ]
  },
  {
   "cell_type": "markdown",
   "id": "2efa539d",
   "metadata": {},
   "source": [
    "## Unit Types\n",
    "\n",
    "Unit types are the three major kind of units that are easily interchangeable, but not between\n",
    "- mass\n",
    "- volume\n",
    "- count"
   ]
  },
  {
   "cell_type": "code",
   "execution_count": 2,
   "id": "d02fc237",
   "metadata": {},
   "outputs": [],
   "source": [
    "unitTypes = [\"mass\", \"volume\", \"count\"]"
   ]
  },
  {
   "cell_type": "markdown",
   "id": "18a6f84c",
   "metadata": {},
   "source": [
    "### Mass Units\n",
    "\n",
    "**Metric**\n",
    "- gram (ground truth): 1 gram = 1 gram\n",
    "- kilogram: 1 kilogram = 1000 gram\n",
    "\n",
    "**Imperial**\n",
    "- oz: 1 oz = 28.3495 grams\n",
    "- pound: 1 lb = 453.592 grams"
   ]
  },
  {
   "cell_type": "code",
   "execution_count": 3,
   "id": "e4f64592",
   "metadata": {},
   "outputs": [],
   "source": [
    "massNames = {\n",
    "  \"g\": \"gram\",\n",
    "  \"kg\": \"kilogram\",\n",
    "  \"oz\": \"ounce\",\n",
    "  \"lb\": \"pound\",\n",
    "}\n",
    "\n",
    "massNamesAbbr = {\n",
    "  \"g\": \"g\",\n",
    "  \"kg\": \"kg\",\n",
    "  \"oz\": \"oz\",\n",
    "  \"lb\": \"lb\",\n",
    "}\n",
    "\n",
    "massRatios = {\n",
    "  \"g\": 1,\n",
    "  \"kg\": 1 / 1000,\n",
    "  \"oz\": 1 / 28.3495,\n",
    "  \"lb\": 1 / 453.592\n",
    "}"
   ]
  },
  {
   "cell_type": "markdown",
   "id": "c5ccca1f",
   "metadata": {},
   "source": [
    "### Volume Units\n",
    "\n",
    "**Metric**\n",
    "- milliliter (ground truth):  1mL = 1 mL\n",
    "- liter: 1L = 1000 mL\n",
    "\n",
    "**Imperial**\n",
    "- teaspoon: 1 tsp = 5 mL\n",
    "- tablespoon: 1 Tbsp = 15 mL\n",
    "- fluid ounce: 1 fl oz = 30 mL\n",
    "- cup: 1 cup = 1 cup = 240 mL OR 1 cup = 250 mL\n",
    "- quart: 1 qt = 950 mL OR 1 qt = 1000 mL\n",
    "- gallon: 1 gal = 3800 mL OR 1 g = 4000 mL"
   ]
  },
  {
   "cell_type": "code",
   "execution_count": 4,
   "id": "8e660289",
   "metadata": {},
   "outputs": [],
   "source": [
    "volumeNames = {\n",
    "    \"mL\": \"milliliter\",\n",
    "    \"L\": \"liter\",\n",
    "    \"tsp\": \"teaspoon\",\n",
    "    \"Tbsp\": \"tablespoon\",\n",
    "    \"fl oz\": \"fluid ounce\",\n",
    "    \"cup\": \"cup\",\n",
    "    \"qt\": \"quart\",\n",
    "    \"gal\": \"gallon\",\n",
    "}\n",
    "\n",
    "volumeNamesAbbr = {\n",
    "    \"mL\": \"mL\",\n",
    "    \"L\": \"L\",\n",
    "    \"tsp\": \"tsp\",\n",
    "    \"Tbsp\": \"Tbsp\",\n",
    "    \"fl oz\": \"fl oz\",\n",
    "    \"cup\": \"cup\",\n",
    "    \"qt\": \"qt\",\n",
    "    \"gal\": \"gal\",\n",
    "}\n",
    "\n",
    "volumeRatios = {\n",
    "    \"mL\": 1,\n",
    "    \"L\": 1 / 1000,\n",
    "    \"tsp\": 1 / 5,\n",
    "    \"Tbsp\": 1 / 15,\n",
    "    \"fl oz\": 1 / 30,\n",
    "    \"cup\": 1 / 240,\n",
    "    \"qt\": 1 / 950,\n",
    "    \"gal\": 1 / 3800,\n",
    "}"
   ]
  },
  {
   "cell_type": "markdown",
   "id": "0f0eea3b",
   "metadata": {},
   "source": [
    "### Count Units\n",
    "- whole\n",
    "- halves\n",
    "- quarters (ground truth) *because its the smallest unit*\n",
    "- dozen"
   ]
  },
  {
   "cell_type": "code",
   "execution_count": 5,
   "id": "bb3fa138",
   "metadata": {},
   "outputs": [],
   "source": [
    "countNames = {\n",
    "    \"whole\": \"whole\",\n",
    "    \"half\": \"half\",\n",
    "    \"qtr\": \"quarter\",\n",
    "    \"dozen\": \"dozen\",\n",
    "}\n",
    "\n",
    "countNamesAbbr = {\n",
    "    \"qtr\": \"qtr\",\n",
    "    \"half\": \"half\",\n",
    "    \"whole\": \"whole\",\n",
    "    \"dozen\": \"doz\", # A common abbreviation for dozen\n",
    "}\n",
    "\n",
    "countRatios = {\n",
    "    # Ground Truth: 1 quarter = 1 quarter\n",
    "    \"qtr\": 1,\n",
    "    # 1 half = 2 quarters\n",
    "    \"half\": 1 / 2,\n",
    "    \"whole\": 1 / 4,\n",
    "    \"dozen\": 1 / 48,\n",
    "}"
   ]
  },
  {
   "cell_type": "markdown",
   "id": "c0109fc0",
   "metadata": {},
   "source": [
    "### Unit conversion\n",
    "\n",
    "#### Displaying Amounts in desired unit\n",
    "\n",
    "Since we always store the data in the computer in the ground truth unit, its very simple; we just multiply by our mass ratio\n",
    "\n",
    "240 grams -> ounces? => 240 g * **1 oz / 28.3495 g** = 8.4657... ounces\n",
    "\n",
    "#### Convert input to ground truth\n",
    "\n",
    "This is also really simple, we can just take the reciprocal of our mass ratio\n",
    "\n",
    "8.4657 ouces -> grams? => 8.4657 oz * **28.3495 f / 1 oz** = 239.998 grams..."
   ]
  },
  {
   "cell_type": "code",
   "execution_count": 9,
   "id": "e5a5fe3d",
   "metadata": {},
   "outputs": [
    {
     "name": "stdout",
     "output_type": "stream",
     "text": [
      "input amount of 240 grams is 8.465757773505706 ounces\n"
     ]
    }
   ],
   "source": [
    "inputAmount = 240\n",
    "inputUnit = \"g\"\n",
    "\n",
    "outputUnit = \"oz\"\n",
    "outputAmount = inputAmount * (massRatios[outputUnit])\n",
    "\n",
    "print(f\"input amount of {inputAmount} {massNames[inputUnit]}s is {outputAmount} {massNames[outputUnit]}s\")"
   ]
  },
  {
   "cell_type": "markdown",
   "id": "a4ab2914",
   "metadata": {},
   "source": [
    "# Actual, Re-usable Code Implementation"
   ]
  },
  {
   "cell_type": "markdown",
   "id": "1df8cdb8",
   "metadata": {},
   "source": [
    "### Define Global Constant Structure"
   ]
  },
  {
   "cell_type": "code",
   "execution_count": 13,
   "id": "d2ff2c8c",
   "metadata": {},
   "outputs": [
    {
     "name": "stdout",
     "output_type": "stream",
     "text": [
      "Unit Types: ['mass', 'volume', 'count']\n",
      "Names: {'mass': {'g': 'gram', 'kg': 'kilogram', 'oz': 'ounce', 'lb': 'pound'}, 'volume': {'mL': 'milliliter', 'L': 'liter', 'tsp': 'teaspoon', 'Tbsp': 'tablespoon', 'fl oz': 'fluid ounce', 'cup': 'cup', 'qt': 'quart', 'gal': 'gallon'}, 'count': {'whole': 'whole', 'half': 'half', 'qtr': 'quarter', 'dozen': 'dozen'}}\n",
      "Names Abbreviated: {'mass': {'g': 'g', 'kg': 'kg', 'oz': 'oz', 'lb': 'lb'}, 'volume': {'mL': 'mL', 'L': 'L', 'tsp': 'tsp', 'Tbsp': 'Tbsp', 'fl oz': 'fl oz', 'cup': 'cup', 'qt': 'qt', 'gal': 'gal'}, 'count': {'qtr': 'qtr', 'half': 'half', 'whole': 'whole', 'dozen': 'doz'}}\n",
      "Ratios: {'mass': {'g': 1, 'kg': 0.001, 'oz': 0.03527399072294044, 'lb': 0.0022046244201837776}, 'volume': {'mL': 1, 'L': 0.001, 'tsp': 0.2, 'Tbsp': 0.06666666666666667, 'fl oz': 0.03333333333333333, 'cup': 0.004166666666666667, 'qt': 0.0010526315789473684, 'gal': 0.0002631578947368421}, 'count': {'qtr': 1, 'half': 0.5, 'whole': 0.25, 'dozen': 0.020833333333333332}}\n"
     ]
    }
   ],
   "source": [
    "print(\"Unit Types:\", unitTypes)\n",
    "\n",
    "names = {\n",
    "  \"mass\": massNames,\n",
    "  \"volume\": volumeNames,\n",
    "  \"count\": countNames,\n",
    "}\n",
    "\n",
    "namesAbbr = {\n",
    "  \"mass\": massNamesAbbr,\n",
    "  \"volume\": volumeNamesAbbr,\n",
    "  \"count\": countNamesAbbr,\n",
    "}\n",
    "\n",
    "ratios = {\n",
    "  \"mass\": massRatios,\n",
    "  \"volume\": volumeRatios,\n",
    "  \"count\": countRatios,\n",
    "}\n",
    "\n",
    "print(\"Names:\", names)\n",
    "print(\"Names Abbreviated:\", namesAbbr)\n",
    "print(\"Ratios:\", ratios)"
   ]
  },
  {
   "cell_type": "markdown",
   "id": "b702d100",
   "metadata": {},
   "source": [
    "### Define Class For Storing/Displaying"
   ]
  },
  {
   "cell_type": "code",
   "execution_count": 29,
   "id": "063e393c",
   "metadata": {},
   "outputs": [],
   "source": [
    "GROUND_TRUTH_UNITS = {\n",
    "  \"mass\": \"g\",\n",
    "  \"volume\": \"mL\",\n",
    "  \"count\": \"qtr\",\n",
    "}\n",
    "\n",
    "# This class defines an item quantity, which can be constructed\n",
    "# from any unit definition, and then converted to be displayed as any\n",
    "# other unit\n",
    "class ItemQuantity:\n",
    "  \n",
    "  # Convert the input amount/unit to the ground truth unit in the constructor\n",
    "  def __init__(self, amount: float, unit: str, unitType: str):\n",
    "    self._unit = GROUND_TRUTH_UNITS[unitType]\n",
    "    self._unitType = unitType\n",
    "    self._amount = amount / ratios[unitType][unit]\n",
    "    \n",
    "  # Convert the stored ground truth amount/unit to the desired output unit\n",
    "  def toUnit(self, unit: str) -> float:\n",
    "    return self._amount * (ratios[self._unitType][unit] / ratios[self._unitType][self._unit])\n",
    "  \n",
    "  # Helper function for getting human-readable output\n",
    "  # [amount, full name (pluralized), abbreviated name]\n",
    "  def toDisplayComponents(self, unit: str) -> tuple[str, str, str]:\n",
    "    amount = self.toUnit(unit)\n",
    "    displayUnit = names[self._unitType][unit]\n",
    "    displayUnitAbbr = namesAbbr[self._unitType][unit]\n",
    "    \n",
    "    # perform rounding\n",
    "    amount = round(amount, 4)\n",
    "    \n",
    "    # plural (add s?)\n",
    "    if amount != 1:\n",
    "      displayUnit += \"s\"\n",
    "      \n",
    "    return (amount, displayUnit, displayUnitAbbr)"
   ]
  },
  {
   "cell_type": "markdown",
   "id": "d7f21c5d",
   "metadata": {},
   "source": [
    "### Example usage"
   ]
  },
  {
   "cell_type": "code",
   "execution_count": 37,
   "id": "919b2a2e",
   "metadata": {},
   "outputs": [
    {
     "name": "stdout",
     "output_type": "stream",
     "text": [
      "input: 24 oz of flour\n",
      "flour: 1.5 pounds\n",
      "\n",
      "\n",
      "input: .333 L of water\n",
      "water: 1.3875 cups\n"
     ]
    }
   ],
   "source": [
    "flour = ItemQuantity(24, \"oz\", \"mass\")\n",
    "print(\"input: 24 oz of flour\")\n",
    "\n",
    "amount, name, _ = flour.toDisplayComponents(\"lb\")\n",
    "print(f\"flour: {amount} {name}\")\n",
    "\n",
    "print()\n",
    "print()\n",
    "\n",
    "print(\"input: .333 L of water\")\n",
    "water = ItemQuantity(.333, \"L\", \"volume\")\n",
    "amount, name, _ = water.toDisplayComponents(\"cup\")\n",
    "print(f\"water: {amount} {name}\")"
   ]
  }
 ],
 "metadata": {
  "kernelspec": {
   "display_name": "Python 3",
   "language": "python",
   "name": "python3"
  },
  "language_info": {
   "codemirror_mode": {
    "name": "ipython",
    "version": 3
   },
   "file_extension": ".py",
   "mimetype": "text/x-python",
   "name": "python",
   "nbconvert_exporter": "python",
   "pygments_lexer": "ipython3",
   "version": "3.10.12"
  }
 },
 "nbformat": 4,
 "nbformat_minor": 5
}
